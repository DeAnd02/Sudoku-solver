{
 "cells": [
  {
   "cell_type": "code",
   "id": "initial_id",
   "metadata": {
    "collapsed": true,
    "ExecuteTime": {
     "end_time": "2024-10-07T15:48:39.861555Z",
     "start_time": "2024-10-07T15:48:39.831842Z"
    }
   },
   "source": [
    "import numpy as np\n",
    "\n",
    "def parse_board(board):\n",
    "    return np.array([[int(c) if c.isdigit() else 0 for c in row.strip() if c != \" \"] for row in board.strip().split('\\n')])\n",
    "\n",
    "def print_board(board):\n",
    "    for i, row in enumerate(board):\n",
    "        if i % 3 == 0 and i != 0:\n",
    "            print(\"- - - - - - - - - - - -\")\n",
    "        for j, val in enumerate(row):\n",
    "            if j % 3 == 0 and j != 0:\n",
    "                print(\"|\", end=\" \")\n",
    "            if j == 8:\n",
    "                print(val)\n",
    "            else:\n",
    "                print(str(val) + \" \", end=\"\")\n",
    "\n",
    "sudoku_board = \"\"\"\n",
    "37. 5.. ..6\n",
    "... 36. .12\n",
    "... .91 75.\n",
    "... 154 .7.\n",
    "..3 .7. 6..\n",
    ".5. 638 ...\n",
    ".64 98. ...\n",
    "59. .26 ...\n",
    "2.. ..5 .64\n",
    "\"\"\"\n",
    "\n",
    "board = parse_board(sudoku_board)\n",
    "print(\"Sudoku iniziale:\")\n",
    "print_board(board)"
   ],
   "outputs": [
    {
     "name": "stdout",
     "output_type": "stream",
     "text": [
      "30700-15000-10060\n",
      "000-130600-101020\n",
      "000-109010-170500\n",
      "000-1105040-10700\n",
      "0030-10700-16000\n",
      "0500-1603080-1000\n",
      "06040-190800-1000\n",
      "50900-102060-1000\n",
      "2000-10050-106040\n",
      "Sudoku iniziale:\n",
      "3 7 0 | 5 0 0 | 0 0 6\n",
      "0 0 0 | 3 6 0 | 0 1 2\n",
      "0 0 0 | 0 9 1 | 7 5 0\n",
      "- - - - - - - - - - - -\n",
      "0 0 0 | 1 5 4 | 0 7 0\n",
      "0 0 3 | 0 7 0 | 6 0 0\n",
      "0 5 0 | 6 3 8 | 0 0 0\n",
      "- - - - - - - - - - - -\n",
      "0 6 4 | 9 8 0 | 0 0 0\n",
      "5 9 0 | 0 2 6 | 0 0 0\n",
      "2 0 0 | 0 0 5 | 0 6 4\n"
     ]
    }
   ],
   "execution_count": 18
  },
  {
   "metadata": {},
   "cell_type": "code",
   "outputs": [],
   "execution_count": null,
   "source": [
    "def board_is_solved(board):\n",
    "\n",
    "    # Check rows\n",
    "    for num in range(1, 10):\n",
    "        for i in range(9):\n",
    "            count = 0\n",
    "            for j in range(9): #cycle through columns of a fixed row\n",
    "                if board[i][j] == num:\n",
    "                    count += 1\n",
    "                if count > 1: #if a number appear more than once in a row\n",
    "                    return False\n",
    "            if count < 1: #if a number doesn't appear in a row\n",
    "                return False\n",
    "                    \n",
    "    # check columns\n",
    "    for num in range(1, 10):\n",
    "        for j in range(9):\n",
    "            count = 0\n",
    "            for i in range(9): #cycle through rows of a fixed column\n",
    "                if board[i][j] == num:\n",
    "                    count += 1\n",
    "                if count > 1: #if a number appear more than once in a row\n",
    "                    return False\n",
    "            if count < 1: #if a number doesn't appear in a row\n",
    "                return False\n",
    "\n",
    "    # Check boxes\n",
    "    for num in range(1, 10):\n",
    "        for box_x in range(1, 3):\n",
    "            for box_y in range(1, 3):\n",
    "                count = 0\n",
    "                for i in range(box_y * 3, box_y * 3 + 3):\n",
    "                    for j in range(box_x * 3, box_x * 3 + 3):\n",
    "                        if board[i][j] == num:\n",
    "                            count += 1\n",
    "                        if(count > 1): #if a number appears more than one time in a box 3x3\n",
    "                            return False\n",
    "                if count < 1: #if a number doesn't appear in a box\n",
    "                    return False\n",
    "    return True"
   ],
   "id": "7d252996fd9988f9"
  }
 ],
 "metadata": {
  "kernelspec": {
   "display_name": "Python 3",
   "language": "python",
   "name": "python3"
  },
  "language_info": {
   "codemirror_mode": {
    "name": "ipython",
    "version": 2
   },
   "file_extension": ".py",
   "mimetype": "text/x-python",
   "name": "python",
   "nbconvert_exporter": "python",
   "pygments_lexer": "ipython2",
   "version": "2.7.6"
  }
 },
 "nbformat": 4,
 "nbformat_minor": 5
}
