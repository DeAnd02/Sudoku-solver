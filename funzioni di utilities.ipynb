{
 "cells": [
  {
   "cell_type": "code",
   "id": "initial_id",
   "metadata": {
    "collapsed": true,
    "ExecuteTime": {
     "end_time": "2024-10-07T15:48:39.861555Z",
     "start_time": "2024-10-07T15:48:39.831842Z"
    }
   },
   "source": [
    "import numpy as np\n",
    "\n",
    "def parse_board(board):\n",
    "    for row in board.strip().split('\\n'):\n",
    "        for c in row.strip():\n",
    "            if c.isdigit():\n",
    "                print(int(c), end=\"\")\n",
    "            if c != \" \":\n",
    "                print(0, end=\"\")\n",
    "            if c == \" \":\n",
    "                print(-1, end=\"\")\n",
    "        print()\n",
    "            \n",
    "        \n",
    "    return np.array([[int(c) if c.isdigit() else 0 for c in row.strip() if c != \" \"] for row in board.strip().split('\\n')])\n",
    "\n",
    "def print_board(board):\n",
    "    for i, row in enumerate(board):\n",
    "        if i % 3 == 0 and i != 0:\n",
    "            print(\"- - - - - - - - - - - -\")\n",
    "        for j, val in enumerate(row):\n",
    "            if j % 3 == 0 and j != 0:\n",
    "                print(\"|\", end=\" \")\n",
    "            if j == 8:\n",
    "                print(val)\n",
    "            else:\n",
    "                print(str(val) + \" \", end=\"\")\n",
    "\n",
    "sudoku_board = \"\"\"\n",
    "37. 5.. ..6\n",
    "... 36. .12\n",
    "... .91 75.\n",
    "... 154 .7.\n",
    "..3 .7. 6..\n",
    ".5. 638 ...\n",
    ".64 98. ...\n",
    "59. .26 ...\n",
    "2.. ..5 .64\n",
    "\"\"\"\n",
    "\n",
    "board = parse_board(sudoku_board)\n",
    "print(\"Sudoku iniziale:\")\n",
    "print_board(board)"
   ],
   "outputs": [
    {
     "name": "stdout",
     "output_type": "stream",
     "text": [
      "30700-15000-10060\n",
      "000-130600-101020\n",
      "000-109010-170500\n",
      "000-1105040-10700\n",
      "0030-10700-16000\n",
      "0500-1603080-1000\n",
      "06040-190800-1000\n",
      "50900-102060-1000\n",
      "2000-10050-106040\n",
      "Sudoku iniziale:\n",
      "3 7 0 | 5 0 0 | 0 0 6\n",
      "0 0 0 | 3 6 0 | 0 1 2\n",
      "0 0 0 | 0 9 1 | 7 5 0\n",
      "- - - - - - - - - - - -\n",
      "0 0 0 | 1 5 4 | 0 7 0\n",
      "0 0 3 | 0 7 0 | 6 0 0\n",
      "0 5 0 | 6 3 8 | 0 0 0\n",
      "- - - - - - - - - - - -\n",
      "0 6 4 | 9 8 0 | 0 0 0\n",
      "5 9 0 | 0 2 6 | 0 0 0\n",
      "2 0 0 | 0 0 5 | 0 6 4\n"
     ]
    }
   ],
   "execution_count": 18
  },
  {
   "metadata": {},
   "cell_type": "code",
   "outputs": [],
   "execution_count": null,
   "source": "",
   "id": "7d252996fd9988f9"
  }
 ],
 "metadata": {
  "kernelspec": {
   "display_name": "Python 3",
   "language": "python",
   "name": "python3"
  },
  "language_info": {
   "codemirror_mode": {
    "name": "ipython",
    "version": 2
   },
   "file_extension": ".py",
   "mimetype": "text/x-python",
   "name": "python",
   "nbconvert_exporter": "python",
   "pygments_lexer": "ipython2",
   "version": "2.7.6"
  }
 },
 "nbformat": 4,
 "nbformat_minor": 5
}
