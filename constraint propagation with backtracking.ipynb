{
 "cells": [
  {
   "cell_type": "code",
   "id": "initial_id",
   "metadata": {
    "collapsed": true,
    "ExecuteTime": {
     "end_time": "2024-10-14T14:18:35.270802Z",
     "start_time": "2024-10-14T14:18:35.258122Z"
    }
   },
   "source": [
    "import numpy as np\n",
    "\n",
    "def parse_board(board):\n",
    "    return np.array([[int(c) if c.isdigit() else 0 for c in row.strip() if c != \" \"] for row in board.strip().split('\\n')])\n",
    "\n",
    "def print_board(board):\n",
    "    for i, row in enumerate(board):\n",
    "        if i % 3 == 0 and i != 0:\n",
    "            print(\"- - - - - - - - - - - -\")\n",
    "        for j, val in enumerate(row):\n",
    "            if j % 3 == 0 and j != 0:\n",
    "                print(\"|\", end=\" \")\n",
    "            if j == 8:\n",
    "                print(val)\n",
    "            else:\n",
    "                print(str(val) + \" \", end=\"\")\n",
    "    print()\n",
    "\n",
    "def board_is_solved(board):\n",
    "\n",
    "    for num in range(1, 10):\n",
    "        # Check rows\n",
    "        for i in range(9):\n",
    "            count = 0\n",
    "            for j in range(9): #cycle through columns of a fixed row\n",
    "                if board[i][j] == num:\n",
    "                    count += 1\n",
    "                if count > 1: #if a number appear more than once in a row\n",
    "                    return False\n",
    "            if count < 1: #if a number doesn't appear in a row\n",
    "                return False\n",
    "                    \n",
    "        # check columns\n",
    "        for j in range(9):\n",
    "            count = 0\n",
    "            for i in range(9): #cycle through rows of a fixed column\n",
    "                if board[i][j] == num:\n",
    "                    count += 1\n",
    "                if count > 1: #if a number appear more than once in a row\n",
    "                    return False\n",
    "            if count < 1: #if a number doesn't appear in a row\n",
    "                return False\n",
    "\n",
    "    # Check boxes\n",
    "        for box_x in range(1, 3):\n",
    "            for box_y in range(1, 3):\n",
    "                count = 0\n",
    "                for i in range(box_y * 3, box_y * 3 + 3):\n",
    "                    for j in range(box_x * 3, box_x * 3 + 3):\n",
    "                        if board[i][j] == num:\n",
    "                            count += 1\n",
    "                        if(count > 1): #if a number appears more than one time in a box 3x3\n",
    "                            return False\n",
    "                if count < 1: #if a number doesn't appear in a box\n",
    "                    return False\n",
    "    return True\n",
    "\n",
    "def board_is_full(board):\n",
    "    \n",
    "    for i in range(9):\n",
    "        for j in range(9):\n",
    "            if board[i][j] == 0:\n",
    "                return False\n",
    "    return True"
   ],
   "outputs": [],
   "execution_count": 7
  },
  {
   "metadata": {
    "ExecuteTime": {
     "end_time": "2024-10-14T14:18:35.286335Z",
     "start_time": "2024-10-14T14:18:35.278943Z"
    }
   },
   "cell_type": "code",
   "source": [
    "def get_first_free_pos(board):\n",
    "    \n",
    "    for i in range(9):\n",
    "        for j in range(9):\n",
    "            if board[i][j] == 0:\n",
    "                return (i,j) #row, column\n",
    "    \n",
    "    return None\n",
    "\n",
    "def get_valid_num_in_position(board, pos):\n",
    "    \n",
    "    list = [1,2,3,4,5,6,7,8,9]\n",
    "    #check row\n",
    "    for j in range(9):\n",
    "        if board[pos[0], j] in list:\n",
    "            list.remove(board[pos[0], j])\n",
    "            \n",
    "    #check column\n",
    "    for i in range(9):\n",
    "        if board[i, pos[1]] in list:\n",
    "            list.remove(board[i, pos[1]])\n",
    "            \n",
    "    #check box 3x3\n",
    "    box_x = pos[1] // 3\n",
    "    box_y = pos[0] // 3\n",
    "    for i in range(box_y*3, box_y*3 + 3):\n",
    "        for j in range(box_x*3, box_x*3 + 3):\n",
    "            if board[i, j] in list:\n",
    "                list.remove(board[i, j])\n",
    "    \n",
    "    return list\n"
   ],
   "id": "4d723f8f02b453b4",
   "outputs": [],
   "execution_count": 8
  },
  {
   "metadata": {
    "ExecuteTime": {
     "end_time": "2024-10-14T14:18:35.318944Z",
     "start_time": "2024-10-14T14:18:35.310836Z"
    }
   },
   "cell_type": "code",
   "source": [
    "def solve_board(board):\n",
    "    \n",
    "    #print_board(board)\n",
    "    \n",
    "    if board_is_full(board):\n",
    "        return board_is_solved(board)\n",
    "    else:\n",
    "        pos = get_first_free_pos(board)\n",
    "        \n",
    "    for num in get_valid_num_in_position(board, pos):\n",
    "        board[pos[0]][pos[1]] = num\n",
    "        \n",
    "        if solve_board(board):\n",
    "            return True\n",
    "        \n",
    "        board[pos[0]][pos[1]] = 0\n",
    "    \n",
    "    return False"
   ],
   "id": "3d484e0159052a8a",
   "outputs": [],
   "execution_count": 9
  },
  {
   "metadata": {
    "ExecuteTime": {
     "end_time": "2024-10-14T14:18:35.352348Z",
     "start_time": "2024-10-14T14:18:35.338890Z"
    }
   },
   "cell_type": "code",
   "source": [
    "# Example Board\n",
    "sudoku_board = \"\"\"\n",
    "37. 5....6\n",
    "... 36. .12\n",
    "... .91 75.\n",
    "... 154 .7.\n",
    "..3 .7. 6..\n",
    ".5. 638 ...\n",
    ".64 98. ...\n",
    "59. .26 ...\n",
    "2.. ..5 .64\n",
    "\"\"\"\n",
    "\n",
    "easy_1 = \"\"\"\n",
    "37. 5.. ..6\n",
    "... 36. .12\n",
    "... .91 75.\n",
    "... 154 .7.\n",
    "..3 .7. 6..\n",
    ".5. 638 ...\n",
    ".64 98. ...\n",
    "59. .26 ...\n",
    "2.. ..5 .64\n",
    "\"\"\"\n",
    "\n",
    "easy_2 = \"\"\"\n",
    ".7. ..4 13.\n",
    "... 2.7 ..6\n",
    "..5 .13 .2.\n",
    "..1 ..2 ...\n",
    "..2 19. .57\n",
    "..3 .45 8.2\n",
    ".1. 378 26.\n",
    "367 ... 58.\n",
    "8.9 ..1 .7.\n",
    "\"\"\""
   ],
   "id": "5942a06e90baa521",
   "outputs": [],
   "execution_count": 10
  },
  {
   "metadata": {
    "ExecuteTime": {
     "end_time": "2024-10-14T14:18:35.402364Z",
     "start_time": "2024-10-14T14:18:35.371710Z"
    }
   },
   "cell_type": "code",
   "source": [
    "board = parse_board(easy_2)\n",
    "print(\"Example Sudoku:\")\n",
    "print_board(board)\n",
    "\n",
    "\n",
    "if(solve_board(board) and board_is_solved(board)):\n",
    "    print(\"Soluzione: \")\n",
    "    print_board(board)\n",
    "else:\n",
    "    print(\"Board non risolvibile\")\n"
   ],
   "id": "5b776c53e9cf6488",
   "outputs": [
    {
     "name": "stdout",
     "output_type": "stream",
     "text": [
      "Example Sudoku:\n",
      "0 7 0 | 0 0 4 | 1 3 0\n",
      "0 0 0 | 2 0 7 | 0 0 6\n",
      "0 0 5 | 0 1 3 | 0 2 0\n",
      "- - - - - - - - - - - -\n",
      "0 0 1 | 0 0 2 | 0 0 0\n",
      "0 0 2 | 1 9 0 | 0 5 7\n",
      "0 0 3 | 0 4 5 | 8 0 2\n",
      "- - - - - - - - - - - -\n",
      "0 1 0 | 3 7 8 | 2 6 0\n",
      "3 6 7 | 0 0 0 | 5 8 0\n",
      "8 0 9 | 0 0 1 | 0 7 0\n",
      "\n",
      "Soluzione: \n",
      "2 7 6 | 9 8 4 | 1 3 5\n",
      "1 3 8 | 2 5 7 | 9 4 6\n",
      "9 4 5 | 6 1 3 | 7 2 8\n",
      "- - - - - - - - - - - -\n",
      "7 5 1 | 8 3 2 | 6 9 4\n",
      "4 8 2 | 1 9 6 | 3 5 7\n",
      "6 9 3 | 7 4 5 | 8 1 2\n",
      "- - - - - - - - - - - -\n",
      "5 1 4 | 3 7 8 | 2 6 9\n",
      "3 6 7 | 4 2 9 | 5 8 1\n",
      "8 2 9 | 5 6 1 | 4 7 3\n",
      "\n"
     ]
    }
   ],
   "execution_count": 11
  }
 ],
 "metadata": {
  "kernelspec": {
   "display_name": "Python 3",
   "language": "python",
   "name": "python3"
  },
  "language_info": {
   "codemirror_mode": {
    "name": "ipython",
    "version": 2
   },
   "file_extension": ".py",
   "mimetype": "text/x-python",
   "name": "python",
   "nbconvert_exporter": "python",
   "pygments_lexer": "ipython2",
   "version": "2.7.6"
  }
 },
 "nbformat": 4,
 "nbformat_minor": 5
}
