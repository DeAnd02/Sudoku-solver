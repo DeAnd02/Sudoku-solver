{
 "cells": [
  {
   "cell_type": "code",
   "id": "initial_id",
   "metadata": {
    "collapsed": true,
    "ExecuteTime": {
     "end_time": "2024-10-08T12:22:28.919170Z",
     "start_time": "2024-10-08T12:22:28.524655Z"
    }
   },
   "source": [
    "import numpy as np\n",
    "from scipy.optimize import minimize\n",
    "\n",
    "import numpy as np\n",
    "\n",
    "def parse_board(board):\n",
    "    return np.array([[int(c) if c.isdigit() else 0 for c in row.strip() if c != \" \"] for row in board.strip().split('\\n')])\n",
    "\n",
    "def print_board(board):\n",
    "    for i, row in enumerate(board):\n",
    "        if i % 3 == 0 and i != 0:\n",
    "            print(\"- - - - - - - - - - - -\")\n",
    "        for j, val in enumerate(row):\n",
    "            if j % 3 == 0 and j != 0:\n",
    "                print(\"|\", end=\" \")\n",
    "            if j == 8:\n",
    "                print(val)\n",
    "            else:\n",
    "                print(str(val) + \" \", end=\"\")\n",
    "    print()\n",
    "\n",
    "def board_is_solved(board):\n",
    "\n",
    "    for num in range(1, 10):\n",
    "        # Check rows\n",
    "        for i in range(9):\n",
    "            count = 0\n",
    "            for j in range(9): #cycle through columns of a fixed row\n",
    "                if board[i][j] == num:\n",
    "                    count += 1\n",
    "                if count > 1: #if a number appear more than once in a row\n",
    "                    return False\n",
    "            if count < 1: #if a number doesn't appear in a row\n",
    "                return False\n",
    "                    \n",
    "        # check columns\n",
    "        for j in range(9):\n",
    "            count = 0\n",
    "            for i in range(9): #cycle through rows of a fixed column\n",
    "                if board[i][j] == num:\n",
    "                    count += 1\n",
    "                if count > 1: #if a number appear more than once in a row\n",
    "                    return False\n",
    "            if count < 1: #if a number doesn't appear in a row\n",
    "                return False\n",
    "\n",
    "    # Check boxes\n",
    "        for box_x in range(1, 3):\n",
    "            for box_y in range(1, 3):\n",
    "                count = 0\n",
    "                for i in range(box_y * 3, box_y * 3 + 3):\n",
    "                    for j in range(box_x * 3, box_x * 3 + 3):\n",
    "                        if board[i][j] == num:\n",
    "                            count += 1\n",
    "                        if(count > 1): #if a number appears more than one time in a box 3x3\n",
    "                            return False\n",
    "                if count < 1: #if a number doesn't appear in a box\n",
    "                    return False\n",
    "    return True\n",
    "\n",
    "\n",
    "def board_is_full(board):\n",
    "    \n",
    "    for i in range(9):\n",
    "        for j in range(9):\n",
    "            if board[i][j] == 0:\n",
    "                return False\n",
    "    return True"
   ],
   "outputs": [],
   "execution_count": 1
  },
  {
   "metadata": {},
   "cell_type": "code",
   "outputs": [],
   "execution_count": null,
   "source": "",
   "id": "de6101101cec0e6"
  }
 ],
 "metadata": {
  "kernelspec": {
   "display_name": "Python 3",
   "language": "python",
   "name": "python3"
  },
  "language_info": {
   "codemirror_mode": {
    "name": "ipython",
    "version": 2
   },
   "file_extension": ".py",
   "mimetype": "text/x-python",
   "name": "python",
   "nbconvert_exporter": "python",
   "pygments_lexer": "ipython2",
   "version": "2.7.6"
  }
 },
 "nbformat": 4,
 "nbformat_minor": 5
}
